{
  "nbformat": 4,
  "nbformat_minor": 0,
  "metadata": {
    "colab": {
      "provenance": [],
      "collapsed_sections": [
        "uy8ZkDly8UOl",
        "0s-VDcmZnTJc",
        "dwrPZp3s71E_",
        "YC5imKNwb7x8",
        "cENjI2707CAU",
        "cDAEfzSB7S2P",
        "FDMjJ1SD7Xyr"
      ]
    },
    "kernelspec": {
      "name": "python3",
      "display_name": "Python 3"
    },
    "language_info": {
      "name": "python"
    }
  },
  "cells": [
    {
      "cell_type": "code",
      "execution_count": null,
      "metadata": {
        "colab": {
          "base_uri": "https://localhost:8080/"
        },
        "id": "m_0QQ0hV2lBd",
        "outputId": "39d704a2-ead6-4f8b-ce47-ef38e42039b9"
      },
      "outputs": [
        {
          "output_type": "stream",
          "name": "stderr",
          "text": [
            "[nltk_data] Downloading package stopwords to /root/nltk_data...\n",
            "[nltk_data]   Package stopwords is already up-to-date!\n",
            "[nltk_data] Downloading package punkt to /root/nltk_data...\n",
            "[nltk_data]   Package punkt is already up-to-date!\n",
            "[nltk_data] Downloading package wordnet to /root/nltk_data...\n",
            "[nltk_data]   Package wordnet is already up-to-date!\n"
          ]
        }
      ],
      "source": [
        "import pandas as pd\n",
        "import re\n",
        "import nltk\n",
        "from nltk.corpus import stopwords\n",
        "nltk.download('stopwords')\n",
        "nltk.download('punkt')\n",
        "nltk.download('wordnet')\n",
        "stopwords = stopwords.words('english')\n",
        "from nltk.tokenize import word_tokenize\n",
        "from nltk.stem.snowball import SnowballStemmer\n",
        "stemmer = SnowballStemmer(\"english\")\n",
        "from collections import Counter\n",
        "import math\n",
        "import numpy as np\n",
        "import seaborn as sbn\n",
        "import matplotlib.pyplot as plt"
      ]
    },
    {
      "cell_type": "code",
      "source": [
        "from google.colab import drive\n",
        "drive.mount('/content/drive')"
      ],
      "metadata": {
        "id": "NEjH0uPQY7aL"
      },
      "execution_count": null,
      "outputs": []
    },
    {
      "cell_type": "markdown",
      "source": [
        "#Load Data"
      ],
      "metadata": {
        "id": "uy8ZkDly8UOl"
      }
    },
    {
      "cell_type": "code",
      "source": [
        "df = pd.read_csv('/content/drive/MyDrive/IR Assignments/A2/BBC News Train.csv')"
      ],
      "metadata": {
        "id": "LEgFvB313IjC"
      },
      "execution_count": null,
      "outputs": []
    },
    {
      "cell_type": "code",
      "source": [
        "df.drop(columns = ['ArticleId'], inplace = True)"
      ],
      "metadata": {
        "id": "BWG2-iVA3M-d"
      },
      "execution_count": null,
      "outputs": []
    },
    {
      "cell_type": "code",
      "source": [
        "from sklearn.preprocessing import LabelEncoder\n",
        "le = LabelEncoder()\n",
        "label = le.fit_transform(df['Category'])\n",
        "df.drop(\"Category\", axis=1, inplace=True)\n",
        "df[\"Category\"] = label"
      ],
      "metadata": {
        "id": "PSTb_kURauFC"
      },
      "execution_count": null,
      "outputs": []
    },
    {
      "cell_type": "markdown",
      "source": [
        "#Defining preprocessing tasks"
      ],
      "metadata": {
        "id": "0s-VDcmZnTJc"
      }
    },
    {
      "cell_type": "code",
      "source": [
        "def convert_lower(df):\n",
        "    df['Text'] = df['Text'].map(str.lower)\n",
        "    return df"
      ],
      "metadata": {
        "id": "DGQ46S1D3y_J"
      },
      "execution_count": null,
      "outputs": []
    },
    {
      "cell_type": "code",
      "source": [
        "def remove_punctuations(df):\n",
        "    df[\"Text\"] = df['Text'].str.replace('[^\\w\\s]','')\n",
        "    return df"
      ],
      "metadata": {
        "id": "Ax0cjY184Zjf"
      },
      "execution_count": null,
      "outputs": []
    },
    {
      "cell_type": "code",
      "source": [
        "def remove_stopwords(df):\n",
        "    df['Text'].apply(lambda x: [item for item in x if item not in stopwords])\n",
        "    return df"
      ],
      "metadata": {
        "id": "5RurVDKA4lQc"
      },
      "execution_count": null,
      "outputs": []
    },
    {
      "cell_type": "code",
      "source": [
        "def tokenize(df):\n",
        "    df['Text'] = df['Text'].apply(word_tokenize)\n",
        "    return df"
      ],
      "metadata": {
        "id": "DBPeC48i5Nlq"
      },
      "execution_count": null,
      "outputs": []
    },
    {
      "cell_type": "code",
      "source": [
        "def stemming(df):\n",
        "    df['Text'] = df['Text'].apply(lambda x: [stemmer.stem(y) for y in x])\n",
        "    return df"
      ],
      "metadata": {
        "id": "waq-BE6M604X"
      },
      "execution_count": null,
      "outputs": []
    },
    {
      "cell_type": "code",
      "source": [
        "def lemmatization(df):\n",
        "    w_tokenizer = nltk.tokenize.WhitespaceTokenizer()\n",
        "    lemmatizer = nltk.stem.WordNetLemmatizer()\n",
        "    df['Text'] = df['Text'].apply(lambda x: [lemmatizer.lemmatize(w) for w in x])\n",
        "    return df"
      ],
      "metadata": {
        "id": "CTNzVshD8QCH"
      },
      "execution_count": null,
      "outputs": []
    },
    {
      "cell_type": "code",
      "source": [
        "def preprocess(df):\n",
        "    df = convert_lower(df)\n",
        "    df = remove_punctuations(df)\n",
        "    df = remove_stopwords(df)\n",
        "    df = tokenize(df)    \n",
        "    df = lemmatization(df)\n",
        "    return df"
      ],
      "metadata": {
        "id": "r-N4NCeV43v4"
      },
      "execution_count": null,
      "outputs": []
    },
    {
      "cell_type": "code",
      "source": [
        "df = preprocess(df)"
      ],
      "metadata": {
        "colab": {
          "base_uri": "https://localhost:8080/"
        },
        "id": "XjdbyTV_5BNN",
        "outputId": "a2096546-fc55-4507-fd41-a34e5cee538f"
      },
      "execution_count": null,
      "outputs": [
        {
          "output_type": "stream",
          "name": "stderr",
          "text": [
            "<ipython-input-42-46a016a6cd9d>:2: FutureWarning: The default value of regex will change from True to False in a future version.\n",
            "  df[\"Text\"] = df['Text'].str.replace('[^\\w\\s]','')\n"
          ]
        }
      ]
    },
    {
      "cell_type": "markdown",
      "source": [
        "#TFIDF"
      ],
      "metadata": {
        "id": "dwrPZp3s71E_"
      }
    },
    {
      "cell_type": "markdown",
      "source": [
        "General tf_idf function for given document"
      ],
      "metadata": {
        "id": "bfgOc7wrnX27"
      }
    },
    {
      "cell_type": "code",
      "source": [
        "def tf_idf(term, document, corpus):        \n",
        "    tf = Counter(document)[term]\n",
        "        \n",
        "    n_docs_with_term = 0\n",
        "    for doc in corpus:\n",
        "        if term in doc:\n",
        "            n_docs_with_term+=1    \n",
        "    icf = math.log(len(corpus) / n_docs_with_term)\n",
        "        \n",
        "    return tf * icf"
      ],
      "metadata": {
        "id": "XnsCSBCE7C2b"
      },
      "execution_count": null,
      "outputs": []
    },
    {
      "cell_type": "code",
      "source": [
        "from sklearn.model_selection import train_test_split\n",
        "train_df, test_df = train_test_split(df, test_size=0.3,random_state=11)\n",
        "category_list = list(train_df['Category'].unique())"
      ],
      "metadata": {
        "id": "y-Lj-2Sj_WCL"
      },
      "execution_count": null,
      "outputs": []
    },
    {
      "cell_type": "markdown",
      "source": [
        "Making a corpus for the entire train_dataset"
      ],
      "metadata": {
        "id": "y9pIgzPOncPk"
      }
    },
    {
      "cell_type": "code",
      "source": [
        "def make_train_corpus(train_df):\n",
        "  train_corpus = []\n",
        "  for i in train_df['Text']:\n",
        "      train_corpus.append(i)\n",
        "  return train_corpus"
      ],
      "metadata": {
        "id": "RB-1hPJR90Sz"
      },
      "execution_count": null,
      "outputs": []
    },
    {
      "cell_type": "markdown",
      "source": [
        "Making corpus and words list for each class in train dataset\n",
        "\n"
      ],
      "metadata": {
        "id": "xqecyiVVnnkk"
      }
    },
    {
      "cell_type": "code",
      "source": [
        "def build_classwise_corpus(train_df,category_list):\n",
        "  \"\"\"Makes set(which is converted to a list) of words for each class: word_for_class and combines documents of each class as one whole document: corpus_for_class\"\"\"\n",
        "  word_for_class = {}\n",
        "  corpus_for_class = {}\n",
        "  for cat in category_list:\n",
        "    filter = train_df[train_df['Category'] == cat]\n",
        "    words_ = []\n",
        "    for i in filter['Text']:\n",
        "      if cat in corpus_for_class.keys():\n",
        "        corpus_for_class[cat].extend(i)\n",
        "      else:\n",
        "        corpus_for_class[cat] = i\n",
        "      words_.extend(i)\n",
        "    words_ = list(set(words_))\n",
        "    if cat in word_for_class.keys():\n",
        "      word_for_class[cat].extend(words_)\n",
        "    else:\n",
        "      word_for_class[cat] = words_\n",
        "  return word_for_class,corpus_for_class"
      ],
      "metadata": {
        "id": "OzkWD75dfMs1"
      },
      "execution_count": null,
      "outputs": []
    },
    {
      "cell_type": "code",
      "source": [
        "def make_features_for_class(word_for_class,corpus_for_class,category_list,train_corpus,k):\n",
        "  \"\"\"makes dict of top-k tficf for each class: tfifc_for_class and combined feature which is basically stacked top-k features for all classes: features\"\"\"\n",
        "  tfifc_for_class = {}\n",
        "  features = set()\n",
        "  for cat in category_list:\n",
        "    print(cat, len(word_for_class[cat]), len(set(word_for_class[cat])))\n",
        "    tfifc_word = {}\n",
        "    for word in word_for_class[cat]:\n",
        "      tfifc_word[word] = tf_idf(word,corpus_for_class[cat],train_corpus)\n",
        "    tfifc_word_sort = dict(sorted(tfifc_word.items(), key=lambda item: item[1], reverse=True)) #sorts words according to their tficf scores\n",
        "    top_k_class_features = list(tfifc_word_sort.keys())[:k] #select k top words\n",
        "    tfifc_for_class[cat] = top_k_class_features\n",
        "    features.update(top_k_class_features) #stacks features from all classes\n",
        "  return tfifc_for_class, features"
      ],
      "metadata": {
        "id": "Xg2ncvc5qZN3"
      },
      "execution_count": null,
      "outputs": []
    },
    {
      "cell_type": "code",
      "source": [
        "def featurization_of_df(df_train,features, category_list):\n",
        "  \"\"\"converts df_train into feature vectors (term frequency of word in doc) fro the model to be able to use it\"\"\"\n",
        "  train_x,train_y = [],[]\n",
        "  for cat in category_list:\n",
        "    filter = df_train[df_train[\"Category\"] == cat]\n",
        "    for docs in filter[\"Text\"]:\n",
        "        feature_for_doc = []\n",
        "        term_frequency_doc = dict(Counter(docs))\n",
        "        for i in features:\n",
        "          if i in term_frequency_doc.keys():\n",
        "            feature_for_doc.append(term_frequency_doc[i])\n",
        "          else:\n",
        "            feature_for_doc.append(0)\n",
        "        train_x.append(feature_for_doc)\n",
        "        train_y.append(cat)\n",
        "  return train_x,train_y"
      ],
      "metadata": {
        "id": "9iUqCNMo0-WW"
      },
      "execution_count": null,
      "outputs": []
    },
    {
      "cell_type": "code",
      "source": [
        "class Naive_Bayes():\n",
        "  \"\"\"Multinomial Naive Bayes approach used for document classification\"\"\"\n",
        "  def __init__(self,train_x,train_y,test_x,test_y, category_list):\n",
        "    self.train_x = train_x\n",
        "    self.train_y = train_y\n",
        "    self.test_x= test_x\n",
        "    self.test_y = test_y\n",
        "    self.category_list = category_list\n",
        "    self.init_prob = {}\n",
        "    self.conditional_prob = {}\n",
        "\n",
        "  def fit(self):\n",
        "    \"\"\"Initial probability: frequency of class/total datapoints\n",
        "      Conditional probability (probabiltiy of each feature for each class): sum of features for each class / sum(sum of feature for that class)\"\"\"\n",
        "    count_class = dict(Counter(self.train_y))\n",
        "    cumulative_feature = {}\n",
        "    for i in self.category_list: #initializing cumulative_features\n",
        "\n",
        "      self.init_prob[i] = count_class[i]/len(self.train_y) #frequency of class/total datapoints\n",
        "      self.conditional_prob[i] = {} #initializing conditional_prob\n",
        "      for j in range(len(self.train_x[0])):\n",
        "        #initializing cumulative_feature\n",
        "        if i in cumulative_feature.keys():\n",
        "          cumulative_feature[i][j] = 0\n",
        "        else:\n",
        "          cumulative_feature[i] = {}\n",
        "          cumulative_feature[i][j] = 0\n",
        "         \n",
        "    for i in range(len(self.train_y)):\n",
        "      for j in range(len(self.train_x[0])):\n",
        "        cumulative_feature[self.train_y[i]][j] += self.train_x[i][j] #adding features for each class\n",
        "\n",
        "    lamda = 1 #to make sure no dividing by 0 happening\n",
        "    \n",
        "\n",
        "    for i in self.category_list:\n",
        "      for j in range(len(self.train_x[0])):\n",
        "        adjusted_cum = cumulative_feature[i][j] + lamda #adding lamda to adjust 0 error\n",
        "        sum_of_features = sum(cumulative_feature[i].values()) + lamda * len(self.train_y) #adding lamba to all features to adjust 0 error\n",
        "        conditional_probability = adjusted_cum/sum_of_features #cumulative_feature (tf)/sum_of_features (total_tf)\n",
        "        self.conditional_prob[i][j] = conditional_probability\n",
        "\n",
        "    return self.init_prob, self.conditional_prob\n",
        "\n",
        "  def predict(self):\n",
        "    \"\"\"Using multinomial naive bayes to get predictions\"\"\"\n",
        "    pred = []\n",
        "\n",
        "    for i in self.test_x:\n",
        "      class_prob = {}\n",
        "      for cat in self.category_list:\n",
        "        sum_of_feature_prob = 0\n",
        "        for j in range(len(test_x[0])):\n",
        "          if i[j] != 0:\n",
        "            sum_of_feature_prob += i[j]*math.log10(self.conditional_prob[cat][j])\n",
        "        class_prob[cat] = sum_of_feature_prob + math.log10(self.init_prob[cat])#log(probability of histogram)\n",
        "      pred_class = max(zip(class_prob.values(), class_prob.keys()))[1] #class with maximum probability gets predicted\n",
        "      pred.append(pred_class)\n",
        "    return pred\n",
        "\n",
        "  def eval(self,pred):\n",
        "    correct = 0\n",
        "    for i in range(len(pred)):\n",
        "      if self.test_y[i] == pred[i]:\n",
        "        correct+=1\n",
        "    \n",
        "    confusion_mat = [[0 for i in range(len(self.category_list))] for j in range(len(self.category_list))]\n",
        "    for i in range(len(pred)):\n",
        "      confusion_mat[pred[i]][test_y[i]] += 1\n",
        "\n",
        "    confusion_mat = np.array(confusion_mat)\n",
        "    f1 = {}\n",
        "    for i in range(confusion_mat.shape[0]): #pred\n",
        "      tp = 0\n",
        "      fp = 0\n",
        "      fn = 0\n",
        "\n",
        "      tp = confusion_mat[i][i]\n",
        "      precision = tp/confusion_mat[i].sum()\n",
        "      recall = tp/confusion_mat.sum(axis=0)[i]\n",
        "\n",
        "      f1[i] = (2*precision*recall)/(precision+recall)\n",
        "    \n",
        "    accuracy = correct/len(pred)\n",
        "    #report = classification_report(self.test_y, pred, digits=3)\n",
        "    return accuracy, confusion_mat,f1"
      ],
      "metadata": {
        "id": "x1lxrqtCNq0a"
      },
      "execution_count": null,
      "outputs": []
    },
    {
      "cell_type": "code",
      "source": [
        "# corpus = make_train_corpus(df)\n",
        "# train_word_for_class, train_corpus_for_class = build_classwise_corpus(df,category_list)\n",
        "# tfifc_for_class, features = make_features_for_class(train_word_for_class, train_corpus_for_class,category_list,corpus,50)"
      ],
      "metadata": {
        "id": "2ztfvZw-Da3W"
      },
      "execution_count": null,
      "outputs": []
    },
    {
      "cell_type": "code",
      "source": [
        "# X,y = featurization_of_df(df,features,category_list)"
      ],
      "metadata": {
        "id": "naGrUBhiEBtk"
      },
      "execution_count": null,
      "outputs": []
    },
    {
      "cell_type": "code",
      "source": [
        "# import pickle\n",
        "# with open(\"Xy_TFIDF.pkl\", 'wb') as f:\n",
        "#   d = {'X':X,'y':y}\n",
        "#   pickle.dump(d,f)"
      ],
      "metadata": {
        "id": "LJuiebWTaaNB"
      },
      "execution_count": null,
      "outputs": []
    },
    {
      "cell_type": "code",
      "source": [
        "import pickle\n",
        "with open('/content/drive/MyDrive/IR Assignments/A2/Q2_TFIDF.pkl', 'rb') as f:\n",
        "    d = pickle.load(f)"
      ],
      "metadata": {
        "id": "97ciwMHYztRC"
      },
      "execution_count": null,
      "outputs": []
    },
    {
      "cell_type": "code",
      "source": [
        "X = d['X']\n",
        "y = d['y']"
      ],
      "metadata": {
        "id": "bMRs5suU0mNR"
      },
      "execution_count": null,
      "outputs": []
    },
    {
      "cell_type": "markdown",
      "source": [
        "##70:30 split"
      ],
      "metadata": {
        "id": "gNuNvUOKVhy-"
      }
    },
    {
      "cell_type": "code",
      "source": [
        "train_x,test_x,train_y,test_y = train_test_split(np.array(X),np.array(y),test_size=0.3,random_state = 11)\n",
        "model = Naive_Bayes(train_x,train_y,test_x,test_y, category_list)\n",
        "_,__ = model.fit()\n",
        "pred = model.predict()"
      ],
      "metadata": {
        "id": "41EKGxsBQ3Gf"
      },
      "execution_count": null,
      "outputs": []
    },
    {
      "cell_type": "code",
      "source": [
        "acc, cm, f1 = model.eval(pred)"
      ],
      "metadata": {
        "id": "feC6vZ2NRmgD"
      },
      "execution_count": null,
      "outputs": []
    },
    {
      "cell_type": "code",
      "source": [
        "print(\"Accuracy: \",acc,'\\n',f1)"
      ],
      "metadata": {
        "id": "fppZ73iFUgEm",
        "colab": {
          "base_uri": "https://localhost:8080/"
        },
        "outputId": "cf908ff9-af55-4f4c-ec9e-d253d064bf57"
      },
      "execution_count": null,
      "outputs": [
        {
          "output_type": "stream",
          "name": "stdout",
          "text": [
            "Accuracy:  0.9574944071588367 \n",
            " {0: 0.9494949494949495, 1: 0.9500000000000001, 2: 0.9523809523809523, 3: 0.9813084112149533, 4: 0.948051948051948}\n"
          ]
        }
      ]
    },
    {
      "cell_type": "code",
      "source": [
        "plt.figure(figsize=(10,10))\n",
        "sbn.heatmap(cm)\n",
        "plt.title(\"70:30 TF IDF\")\n",
        "plt.ylabel(\"pred\")\n",
        "plt.xlabel(\"test_y\")\n",
        "plt.show()"
      ],
      "metadata": {
        "id": "a1d_yuX7Ug2_",
        "colab": {
          "base_uri": "https://localhost:8080/",
          "height": 621
        },
        "outputId": "3b7123f1-120b-4560-9b99-1a5ba8f095f9"
      },
      "execution_count": null,
      "outputs": [
        {
          "output_type": "display_data",
          "data": {
            "text/plain": [
              "<Figure size 720x720 with 2 Axes>"
            ],
            "image/png": "[encoded data removed]"
          },
          "metadata": {
            "needs_background": "light"
          }
        }
      ]
    },
    {
      "cell_type": "markdown",
      "source": [
        "##80:20 split"
      ],
      "metadata": {
        "id": "mYMer4crVp9q"
      }
    },
    {
      "cell_type": "code",
      "source": [
        "train_x,test_x,train_y,test_y = train_test_split(np.array(X),np.array(y),test_size=0.2,random_state = 11)\n",
        "model = Naive_Bayes(train_x,train_y,test_x,test_y, category_list)\n",
        "_,__ = model.fit()\n",
        "pred = model.predict()"
      ],
      "metadata": {
        "id": "q0QnIkuFVw-N"
      },
      "execution_count": null,
      "outputs": []
    },
    {
      "cell_type": "code",
      "source": [
        "acc, cm, f1 = model.eval(pred)"
      ],
      "metadata": {
        "id": "QuLsMiiCWoqQ"
      },
      "execution_count": null,
      "outputs": []
    },
    {
      "cell_type": "code",
      "source": [
        "print(\"Accuracy: \",acc,'\\n',f1)"
      ],
      "metadata": {
        "id": "YaWg8EjnW6GW",
        "colab": {
          "base_uri": "https://localhost:8080/"
        },
        "outputId": "9b6b718e-de70-4cf5-b2c3-fbbc3ff1831c"
      },
      "execution_count": null,
      "outputs": [
        {
          "output_type": "stream",
          "name": "stdout",
          "text": [
            "Accuracy:  0.9563758389261745 \n",
            " {0: 0.943089430894309, 1: 0.9523809523809523, 2: 0.9508196721311476, 3: 0.9801324503311258, 4: 0.9473684210526316}\n"
          ]
        }
      ]
    },
    {
      "cell_type": "code",
      "source": [
        "plt.figure(figsize=(10,10))\n",
        "sbn.heatmap(cm)\n",
        "plt.title(\"80:20 TF IDF\")\n",
        "plt.ylabel(\"pred\")\n",
        "plt.xlabel(\"test_y\")\n",
        "plt.show()"
      ],
      "metadata": {
        "id": "jOFXFw97W741",
        "colab": {
          "base_uri": "https://localhost:8080/",
          "height": 621
        },
        "outputId": "d12175e1-d1f5-44b6-9eae-1453e14680f4"
      },
      "execution_count": null,
      "outputs": [
        {
          "output_type": "display_data",
          "data": {
            "text/plain": [
              "<Figure size 720x720 with 2 Axes>"
            ],
            "image/png": "[encoded data removed]"
          },
          "metadata": {
            "needs_background": "light"
          }
        }
      ]
    },
    {
      "cell_type": "markdown",
      "source": [
        "##50:50 split"
      ],
      "metadata": {
        "id": "G7NGd01NXyFl"
      }
    },
    {
      "cell_type": "code",
      "source": [
        "train_x,test_x,train_y,test_y = train_test_split(np.array(X),np.array(y),test_size=0.5,random_state = 11)\n",
        "model = Naive_Bayes(train_x,train_y,test_x,test_y, category_list)\n",
        "_,__ = model.fit()\n",
        "pred = model.predict()"
      ],
      "metadata": {
        "id": "8heSpB6aXzlY"
      },
      "execution_count": null,
      "outputs": []
    },
    {
      "cell_type": "code",
      "source": [
        "acc, cm, f1 = model.eval(pred)"
      ],
      "metadata": {
        "id": "D29NGNpCZTRR"
      },
      "execution_count": null,
      "outputs": []
    },
    {
      "cell_type": "code",
      "source": [
        "print(\"Accuracy: \",acc,'\\n',f1)"
      ],
      "metadata": {
        "id": "RjHb6S6XZVTa",
        "colab": {
          "base_uri": "https://localhost:8080/"
        },
        "outputId": "927be9e7-f022-4bb2-fc06-f57a942d9a65"
      },
      "execution_count": null,
      "outputs": [
        {
          "output_type": "stream",
          "name": "stdout",
          "text": [
            "Accuracy:  0.9610738255033557 \n",
            " {0: 0.9544072948328267, 1: 0.9541984732824427, 2: 0.9556313993174061, 3: 0.9827586206896551, 4: 0.9534883720930232}\n"
          ]
        }
      ]
    },
    {
      "cell_type": "code",
      "source": [
        "plt.figure(figsize=(10,10))\n",
        "sbn.heatmap(cm)\n",
        "plt.title(\"50:50 TF IDF\")\n",
        "plt.ylabel(\"pred\")\n",
        "plt.xlabel(\"test_y\")\n",
        "plt.show()"
      ],
      "metadata": {
        "id": "Q3dSO1OrZXGM",
        "colab": {
          "base_uri": "https://localhost:8080/",
          "height": 621
        },
        "outputId": "26ff4152-d949-4683-d615-8d4b7fafd414"
      },
      "execution_count": null,
      "outputs": [
        {
          "output_type": "display_data",
          "data": {
            "text/plain": [
              "<Figure size 720x720 with 2 Axes>"
            ],
            "image/png": "[encoded data removed]"
          },
          "metadata": {
            "needs_background": "light"
          }
        }
      ]
    },
    {
      "cell_type": "markdown",
      "source": [
        "#TFICF"
      ],
      "metadata": {
        "id": "YC5imKNwb7x8"
      }
    },
    {
      "cell_type": "code",
      "source": [
        "def tf_icf(term, document, class_for_word, category_list):    \n",
        "    \"\"\"This should be icf\"\"\"    \n",
        "    tf = Counter(document)[term]\n",
        "        \n",
        "    n_classes_with_term = len(class_for_word[term])\n",
        "    icf = math.log(len(category_list) / n_classes_with_term)\n",
        "        \n",
        "    return tf * icf"
      ],
      "metadata": {
        "id": "AfLwKp0mcCsd"
      },
      "execution_count": null,
      "outputs": []
    },
    {
      "cell_type": "code",
      "source": [
        "def build_classwise_corpus(train_df,category_list):\n",
        "  \"\"\"Makes set(which is converted to a list) of words for each class: word_for_class and combines documents of each class as one whole document: corpus_for_class\"\"\"\n",
        "  word_for_class = {}\n",
        "  corpus_for_class = {}\n",
        "  class_for_word = {}\n",
        "  for cat in category_list:\n",
        "    filter = train_df[train_df['Category'] == cat]\n",
        "    words_ = []\n",
        "    for i in filter['Text']:\n",
        "      if cat in corpus_for_class.keys():\n",
        "        corpus_for_class[cat].extend(i)\n",
        "      else:\n",
        "        corpus_for_class[cat] = i\n",
        "      words_.extend(i)\n",
        "    words_ = list(set(words_))\n",
        "    for word in words_:\n",
        "      if word in class_for_word.keys():\n",
        "        class_for_word[word].append(cat)\n",
        "      else:\n",
        "        class_for_word[word] = [cat]\n",
        "    if cat in word_for_class.keys():\n",
        "      word_for_class[cat].extend(words_)\n",
        "    else:\n",
        "      word_for_class[cat] = words_\n",
        "  return word_for_class,corpus_for_class, class_for_word"
      ],
      "metadata": {
        "id": "A0V7nRfvxsIp"
      },
      "execution_count": null,
      "outputs": []
    },
    {
      "cell_type": "code",
      "source": [
        "def make_features_for_class(word_for_class,corpus_for_class,class_for_word, category_list,train_corpus,k):\n",
        "  \"\"\"makes dict of top-k tficf for each class: tfifc_for_class and combined feature which is basically stacked top-k features for all classes: features\"\"\"\n",
        "  tfifc_for_class = {}\n",
        "  features = set()\n",
        "  for cat in category_list:\n",
        "    print(cat, len(word_for_class[cat]), len(set(word_for_class[cat])))\n",
        "    tfifc_word = {}\n",
        "    for word in word_for_class[cat]:\n",
        "      tfifc_word[word] = tf_icf(word,corpus_for_class[cat],class_for_word,category_list)\n",
        "    print(cat)\n",
        "    tfifc_word_sort = dict(sorted(tfifc_word.items(), key=lambda item: item[1], reverse=True)) #sorts words according to their tficf scores\n",
        "    top_k_class_features = list(tfifc_word_sort.keys())[:k] #select k top words\n",
        "    tfifc_for_class[cat] = top_k_class_features\n",
        "    features.update(top_k_class_features) #stacks features from all classes\n",
        "  return tfifc_for_class, features"
      ],
      "metadata": {
        "id": "t02g7y8hsV-n"
      },
      "execution_count": null,
      "outputs": []
    },
    {
      "cell_type": "code",
      "source": [
        "# corpus = make_train_corpus(df)\n",
        "# train_word_for_class, train_corpus_for_class, class_for_word = build_classwise_corpus(df,category_list)\n",
        "# tfifc_for_class, features = make_features_for_class(train_word_for_class, train_corpus_for_class,class_for_word,category_list,corpus,50)"
      ],
      "metadata": {
        "id": "MhWnpcSSsQlF"
      },
      "execution_count": null,
      "outputs": []
    },
    {
      "cell_type": "code",
      "source": [
        "# X,y = featurization_of_df(df,features,category_list)"
      ],
      "metadata": {
        "id": "niA_jsQrsy9Z"
      },
      "execution_count": null,
      "outputs": []
    },
    {
      "cell_type": "code",
      "source": [
        "# import pickle\n",
        "# with open(\"Xy_TFICF.pkl\", 'wb') as f:\n",
        "# #   d = {'X':X,'y':y}\n",
        "#   pickle.dump(d,f)"
      ],
      "metadata": {
        "id": "eJlWLffb64cO"
      },
      "execution_count": null,
      "outputs": []
    },
    {
      "cell_type": "code",
      "source": [
        "import pickle #to save time running the above feature extraction we have stored the pickle files\n",
        "with open(\"/content/drive/MyDrive/IR Assignments/A2/Q2_TFICF.pkl\", 'rb') as f:\n",
        "  d = pickle.load(f)\n",
        "X,y = d['X'],d['y']"
      ],
      "metadata": {
        "id": "Ce6Q8HG1FbjJ"
      },
      "execution_count": null,
      "outputs": []
    },
    {
      "cell_type": "markdown",
      "source": [
        "##70:30 split"
      ],
      "metadata": {
        "id": "cENjI2707CAU"
      }
    },
    {
      "cell_type": "code",
      "source": [
        "train_x,test_x,train_y,test_y = train_test_split(np.array(X),np.array(y),test_size=0.3,random_state = 11)\n",
        "model = Naive_Bayes(train_x,train_y,test_x,test_y, category_list)\n",
        "_,__ = model.fit()\n",
        "pred = model.predict()"
      ],
      "metadata": {
        "id": "mhcxDBv57CAU"
      },
      "execution_count": null,
      "outputs": []
    },
    {
      "cell_type": "code",
      "source": [
        "acc, cm, f1 = model.eval(pred)"
      ],
      "metadata": {
        "id": "8UXqWUhD7CAU"
      },
      "execution_count": null,
      "outputs": []
    },
    {
      "cell_type": "code",
      "source": [
        "print(\"Accuracy: \",acc,'\\n',f1)"
      ],
      "metadata": {
        "id": "LAefqHQ77CAU",
        "colab": {
          "base_uri": "https://localhost:8080/"
        },
        "outputId": "87c8d2c2-ac60-4c37-9c67-5f11c7bcd6fe"
      },
      "execution_count": null,
      "outputs": [
        {
          "output_type": "stream",
          "name": "stdout",
          "text": [
            "Accuracy:  0.9507829977628636 \n",
            " {0: 0.9424083769633509, 1: 0.9426751592356688, 2: 0.9585798816568047, 3: 0.9553571428571429, 4: 0.9542483660130718}\n"
          ]
        }
      ]
    },
    {
      "cell_type": "code",
      "source": [
        "plt.figure(figsize=(10,10))\n",
        "sbn.heatmap(cm)\n",
        "plt.title(\"70:30 TF ICF\")\n",
        "plt.ylabel(\"pred\")\n",
        "plt.xlabel(\"test_y\")\n",
        "plt.show()"
      ],
      "metadata": {
        "id": "B7tDVGJB7CAU",
        "colab": {
          "base_uri": "https://localhost:8080/",
          "height": 621
        },
        "outputId": "83ebdbf8-791a-42ff-d1a1-381cbc4af6f2"
      },
      "execution_count": null,
      "outputs": [
        {
          "output_type": "display_data",
          "data": {
            "text/plain": [
              "<Figure size 720x720 with 2 Axes>"
            ],
            "image/png": "[encoded data removed]"
          },
          "metadata": {
            "needs_background": "light"
          }
        }
      ]
    },
    {
      "cell_type": "markdown",
      "source": [
        "##80:20 split"
      ],
      "metadata": {
        "id": "cDAEfzSB7S2P"
      }
    },
    {
      "cell_type": "code",
      "source": [
        "train_x,test_x,train_y,test_y = train_test_split(np.array(X),np.array(y),test_size=0.2,random_state = 11)\n",
        "model = Naive_Bayes(train_x,train_y,test_x,test_y, category_list)\n",
        "_,__ = model.fit()\n",
        "pred = model.predict()"
      ],
      "metadata": {
        "id": "0jDqwJCC7S2Q"
      },
      "execution_count": null,
      "outputs": []
    },
    {
      "cell_type": "code",
      "source": [
        "acc, cm, rep = model.eval(pred)"
      ],
      "metadata": {
        "id": "p3uNWeFX7S2R"
      },
      "execution_count": null,
      "outputs": []
    },
    {
      "cell_type": "code",
      "source": [
        "print(\"Accuracy: \",acc,'\\n',rep)"
      ],
      "metadata": {
        "id": "oUhmG24v7S2R",
        "colab": {
          "base_uri": "https://localhost:8080/"
        },
        "outputId": "d50e4200-4e37-49e2-805f-bda3def35da5"
      },
      "execution_count": null,
      "outputs": [
        {
          "output_type": "stream",
          "name": "stdout",
          "text": [
            "Accuracy:  0.9496644295302014 \n",
            " {0: 0.9076923076923077, 1: 0.9523809523809523, 2: 0.9752066115702479, 3: 0.9523809523809524, 4: 0.967741935483871}\n"
          ]
        }
      ]
    },
    {
      "cell_type": "code",
      "source": [
        "plt.figure(figsize=(10,10))\n",
        "sbn.heatmap(cm)\n",
        "plt.title(\"80:20 TF ICF\")\n",
        "plt.ylabel(\"pred\")\n",
        "plt.xlabel(\"test_y\")\n",
        "plt.show()"
      ],
      "metadata": {
        "id": "KWI71wCa7S2S",
        "colab": {
          "base_uri": "https://localhost:8080/",
          "height": 621
        },
        "outputId": "93eb699e-9fb1-4867-adac-f9fb746a615c"
      },
      "execution_count": null,
      "outputs": [
        {
          "output_type": "display_data",
          "data": {
            "text/plain": [
              "<Figure size 720x720 with 2 Axes>"
            ],
            "image/png": "[encoded data removed]"
          },
          "metadata": {
            "needs_background": "light"
          }
        }
      ]
    },
    {
      "cell_type": "markdown",
      "source": [
        "##50:50 split"
      ],
      "metadata": {
        "id": "FDMjJ1SD7Xyr"
      }
    },
    {
      "cell_type": "code",
      "source": [
        "train_x,test_x,train_y,test_y = train_test_split(np.array(X),np.array(y),test_size=0.5,random_state = 11)\n",
        "model = Naive_Bayes(train_x,train_y,test_x,test_y, category_list)\n",
        "_,__ = model.fit()\n",
        "pred = model.predict()"
      ],
      "metadata": {
        "id": "QptCRBK67Xys"
      },
      "execution_count": null,
      "outputs": []
    },
    {
      "cell_type": "code",
      "source": [
        "acc, cm, f1 = model.eval(pred)"
      ],
      "metadata": {
        "id": "Qma5JTBs7Xys"
      },
      "execution_count": null,
      "outputs": []
    },
    {
      "cell_type": "code",
      "source": [
        "print(\"Accuracy: \",acc,'\\n',f1)"
      ],
      "metadata": {
        "id": "bFV9hZIH7Xys",
        "colab": {
          "base_uri": "https://localhost:8080/"
        },
        "outputId": "359cc186-dbe7-499d-b5a5-6b900a7ee1ab"
      },
      "execution_count": null,
      "outputs": [
        {
          "output_type": "stream",
          "name": "stdout",
          "text": [
            "Accuracy:  0.9489932885906041 \n",
            " {0: 0.950920245398773, 1: 0.9453125000000001, 2: 0.9477351916376306, 3: 0.9505494505494505, 4: 0.9494163424124513}\n"
          ]
        }
      ]
    },
    {
      "cell_type": "code",
      "source": [
        "plt.figure(figsize=(10,10))\n",
        "sbn.heatmap(cm)\n",
        "plt.title(\"50:50 TF ICF\")\n",
        "plt.ylabel(\"pred\")\n",
        "plt.xlabel(\"test_y\")\n",
        "plt.show()"
      ],
      "metadata": {
        "id": "mHXdNh2w7Xys",
        "colab": {
          "base_uri": "https://localhost:8080/",
          "height": 621
        },
        "outputId": "39fede60-3eb9-4179-e0fc-59492d9d984e"
      },
      "execution_count": null,
      "outputs": [
        {
          "output_type": "display_data",
          "data": {
            "text/plain": [
              "<Figure size 720x720 with 2 Axes>"
            ],
            "image/png": "[encoded data removed]"
          },
          "metadata": {
            "needs_background": "light"
          }
        }
      ]
    }
  ]
}