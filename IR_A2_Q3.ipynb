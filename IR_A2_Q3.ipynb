{
  "nbformat": 4,
  "nbformat_minor": 0,
  "metadata": {
    "colab": {
      "provenance": []
    },
    "kernelspec": {
      "name": "python3",
      "display_name": "Python 3"
    },
    "language_info": {
      "name": "python"
    }
  },
  "cells": [
    {
      "cell_type": "code",
      "source": [
        "import math\n",
        "import pandas as pd\n",
        "import numpy as np\n",
        "import matplotlib.pyplot as plt"
      ],
      "metadata": {
        "id": "It63qRv7BGpe"
      },
      "execution_count": null,
      "outputs": []
    },
    {
      "cell_type": "code",
      "source": [
        "file = open('/content/drive/MyDrive/IR Assignments/A2/Q3_Dataset.txt', 'r')\n",
        "lines = file.readlines()"
      ],
      "metadata": {
        "id": "pUzTbIbZUj2C"
      },
      "execution_count": null,
      "outputs": []
    },
    {
      "cell_type": "code",
      "source": [
        "useful_lines = []\n",
        "for i in lines:\n",
        "    if 'qid:4 ' in i:\n",
        "        useful_lines.append(i)\n",
        "len(useful_lines)"
      ],
      "metadata": {
        "id": "0fFng4HhUpLe",
        "outputId": "11b45485-5c93-4f0a-cbe9-531880af13e6",
        "colab": {
          "base_uri": "https://localhost:8080/"
        }
      },
      "execution_count": null,
      "outputs": [
        {
          "output_type": "execute_result",
          "data": {
            "text/plain": [
              "103"
            ]
          },
          "metadata": {},
          "execution_count": 3
        }
      ]
    },
    {
      "cell_type": "code",
      "source": [
        "x = 0\n",
        "final_data = []\n",
        "for i in useful_lines:\n",
        "    index = x\n",
        "    x+=1\n",
        "    rel_score = int(i[0])\n",
        "    data = i[2:]\n",
        "    final_data.append((index, rel_score, data))"
      ],
      "metadata": {
        "id": "GvkXMq3lTtlU"
      },
      "execution_count": null,
      "outputs": []
    },
    {
      "cell_type": "code",
      "source": [
        "final_data[0]"
      ],
      "metadata": {
        "id": "2ZezdTQeZC41",
        "outputId": "a85a9df7-0da8-4d11-b179-9bafbd37e9cb",
        "colab": {
          "base_uri": "https://localhost:8080/"
        }
      },
      "execution_count": null,
      "outputs": [
        {
          "output_type": "execute_result",
          "data": {
            "text/plain": [
              "(0,\n",
              " 0,\n",
              " 'qid:4 1:3 2:0 3:2 4:0 5:3 6:1 7:0 8:0.666667 9:0 10:1 11:999 12:0 13:110 14:5 15:1114 16:14.976692 17:28.949002 18:25.594644 19:28.531344 20:14.972391 21:20 22:0 23:5 24:0 25:25 26:1 27:0 28:0 29:0 30:1 31:12 32:0 33:4 34:0 35:16 36:6.666667 37:0 38:1.666667 39:0 40:8.333333 41:20.222222 42:0 43:2.888889 44:0 45:37.555556 46:0.02002 47:0 48:0.045455 49:0 50:0.022442 51:0.001001 52:0 53:0 54:0 55:0.000898 56:0.012012 57:0 58:0.036364 59:0 60:0.014363 61:0.006673 62:0 63:0.015152 64:0 65:0.007481 66:0.00002 67:0 68:0.000239 69:0 70:0.00003 71:77.577533 72:0 73:30.667985 74:0 75:90.53171 76:5.52713 77:0 78:0 79:0 80:5.526745 81:57.882066 82:0 83:18.750101 84:0 85:66.125373 86:25.859178 87:0 88:10.222662 89:0 90:30.177237 91:525.177766 92:0 93:60.031269 94:0 95:675.850674 96:1 97:0 98:0 99:0 100:1 101:0.875901 102:0 103:0.66135 104:0 105:0.864571 106:28.756809 107:0 108:3.274639 109:0 110:28.985515 111:-17.640291 112:-29.251906 113:-20.596041 114:-31.107208 115:-17.519629 116:-19.440921 117:-31.580405 118:-24.146168 119:-33.960286 120:-19.161514 121:-16.596977 122:-31.750477 123:-21.267965 124:-33.908554 125:-16.503638 126:2 127:27 128:2 129:9 130:124 131:4678 132:54 133:74 134:0 135:0 136:0 \\n')"
            ]
          },
          "metadata": {},
          "execution_count": 5
        }
      ]
    },
    {
      "cell_type": "code",
      "source": [
        "sorted_final_data = sorted(final_data, key=lambda x: x[1], reverse=True) "
      ],
      "metadata": {
        "id": "qZSY1HQ_UTJH"
      },
      "execution_count": null,
      "outputs": []
    },
    {
      "cell_type": "code",
      "source": [
        "sorted_final_data"
      ],
      "metadata": {
        "id": "pk4lFdzvU_jY"
      },
      "execution_count": null,
      "outputs": []
    },
    {
      "cell_type": "code",
      "source": [
        "for i in sorted_final_data:\n",
        "    line = str(i[1]) + ' ' + i[2]\n",
        "    file = open('sorted_file.txt', 'a')\n",
        "    file.write(line)"
      ],
      "metadata": {
        "id": "oo8teQxzVUgP"
      },
      "execution_count": null,
      "outputs": []
    },
    {
      "cell_type": "code",
      "source": [
        "relevance_counts = {}\n",
        "for i in sorted_final_data:\n",
        "    rel = i[1]\n",
        "    relevance_counts[rel] = relevance_counts.get(rel, 0) + 1\n",
        "relevance_counts"
      ],
      "metadata": {
        "colab": {
          "base_uri": "https://localhost:8080/"
        },
        "id": "nw3pMkh2WO5B",
        "outputId": "bc8d5cf1-afc3-442d-b12a-92ae996438b4"
      },
      "execution_count": null,
      "outputs": [
        {
          "output_type": "execute_result",
          "data": {
            "text/plain": [
              "{3: 1, 2: 17, 1: 26, 0: 59}"
            ]
          },
          "metadata": {},
          "execution_count": 9
        }
      ]
    },
    {
      "cell_type": "code",
      "source": [
        "import math\n",
        "num_max_files = 1\n",
        "for i in relevance_counts:\n",
        "    num_max_files *= math.factorial(relevance_counts[i])"
      ],
      "metadata": {
        "id": "J0XfOIAMWdn6"
      },
      "execution_count": null,
      "outputs": []
    },
    {
      "cell_type": "code",
      "source": [
        "def dcg(data):\n",
        "    dcg = int(data[0][1])\n",
        "    for i in range(1, len(data)):\n",
        "        rel_score = int(data[i][1])\n",
        "        dcg += rel_score/math.log2(i+1)\n",
        "    return dcg        "
      ],
      "metadata": {
        "id": "19t8mQA7XvOw"
      },
      "execution_count": null,
      "outputs": []
    },
    {
      "cell_type": "code",
      "source": [
        "def ndcg(og_data, sorted_data, limit):\n",
        "    ideal_dcg = dcg(sorted_data[:limit])\n",
        "    normal_dcg = dcg(og_data[:limit])\n",
        "\n",
        "    return normal_dcg/ideal_dcg"
      ],
      "metadata": {
        "id": "1LmW2rXNYkdu"
      },
      "execution_count": null,
      "outputs": []
    },
    {
      "cell_type": "code",
      "source": [
        "ndcg50 = ndcg(final_data, sorted_final_data, 50)\n",
        "ndcg_full = ndcg(final_data, sorted_final_data, len(final_data))\n",
        "\n",
        "print(\"NDCG for 50: \" + str(ndcg50))\n",
        "print(\"NDCG for entire dataset: \" + str(ndcg_full))"
      ],
      "metadata": {
        "id": "jjQztNaYY25U",
        "outputId": "22b782a1-3f71-47b5-a5f2-3af70b47c25c",
        "colab": {
          "base_uri": "https://localhost:8080/"
        }
      },
      "execution_count": null,
      "outputs": [
        {
          "output_type": "stream",
          "name": "stdout",
          "text": [
            "NDCG for 50: 0.3521042740324887\n",
            "NDCG for entire dataset: 0.5979226516897831\n"
          ]
        }
      ]
    },
    {
      "cell_type": "code",
      "source": [
        "data_with_75th_feature = []\n",
        "x = 0\n",
        "for i in useful_lines:\n",
        "    index = x\n",
        "    data = i.split()\n",
        "    rel_score = int(data[0])\n",
        "    reqd_feature = float(data[76].split(':')[1])\n",
        "    rest_data = i[2:]\n",
        "    data_with_75th_feature.append((index, rel_score, reqd_feature, rest_data))"
      ],
      "metadata": {
        "id": "p0HXZrcMZk-d"
      },
      "execution_count": null,
      "outputs": []
    },
    {
      "cell_type": "code",
      "source": [
        "ranked_data_with_75th_feature = sorted(data_with_75th_feature, key=lambda x: x[2], reverse=True) "
      ],
      "metadata": {
        "id": "KzBuEqgQb3Gn"
      },
      "execution_count": null,
      "outputs": []
    },
    {
      "cell_type": "code",
      "source": [
        "len(ranked_data_with_75th_feature)"
      ],
      "metadata": {
        "id": "PLwQQR9XdkwV",
        "outputId": "31fd32d7-5fe2-40e6-85a3-8f238af81978",
        "colab": {
          "base_uri": "https://localhost:8080/"
        }
      },
      "execution_count": null,
      "outputs": [
        {
          "output_type": "execute_result",
          "data": {
            "text/plain": [
              "103"
            ]
          },
          "metadata": {},
          "execution_count": 16
        }
      ]
    },
    {
      "cell_type": "code",
      "source": [
        "total_relevant = 0\n",
        "for i in ranked_data_with_75th_feature:\n",
        "    rel_score = int(i[1])\n",
        "    if(rel_score!=0):\n",
        "        total_relevant += 1"
      ],
      "metadata": {
        "id": "keCZhp1ecgIP"
      },
      "execution_count": null,
      "outputs": []
    },
    {
      "cell_type": "code",
      "source": [
        "total_relevant"
      ],
      "metadata": {
        "id": "nrIQ6Py3dP3v",
        "outputId": "019c097e-16e0-404f-9054-debb9475cff3",
        "colab": {
          "base_uri": "https://localhost:8080/"
        }
      },
      "execution_count": null,
      "outputs": [
        {
          "output_type": "execute_result",
          "data": {
            "text/plain": [
              "44"
            ]
          },
          "metadata": {},
          "execution_count": 18
        }
      ]
    },
    {
      "cell_type": "code",
      "source": [
        "precisions = []\n",
        "recalls = []\n",
        "current_relevant = 0\n",
        "for i in range(len(ranked_data_with_75th_feature)):\n",
        "    if(ranked_data_with_75th_feature[i][1] != 0):\n",
        "        current_relevant +=1    \n",
        "    precisions.append(current_relevant / (i+1))\n",
        "    recalls.append(current_relevant/total_relevant)     \n",
        "\n"
      ],
      "metadata": {
        "id": "a9uvX0qSd-ET"
      },
      "execution_count": null,
      "outputs": []
    },
    {
      "cell_type": "code",
      "source": [
        "import matplotlib.pyplot as plt\n",
        "plt.plot(recalls, precisions)\n",
        "plt.ylabel(\"Precision\")\n",
        "plt.xlabel(\"Recall\")\n",
        "plt.title(\"Precision-Recall Curve\")\n",
        "plt.show()"
      ],
      "metadata": {
        "colab": {
          "base_uri": "https://localhost:8080/",
          "height": 294
        },
        "id": "F5KfL1aSe8ET",
        "outputId": "9f9be217-9db7-4713-d7fe-0ad40534e331"
      },
      "execution_count": null,
      "outputs": [
        {
          "output_type": "display_data",
          "data": {
            "text/plain": [
              "<Figure size 432x288 with 1 Axes>"
            ],
            "image/png": "[encoded data removed]"
          },
          "metadata": {
            "needs_background": "light"
          }
        }
      ]
    }
  ]
}